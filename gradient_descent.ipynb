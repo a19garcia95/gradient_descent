{
 "cells": [
  {
   "cell_type": "code",
   "execution_count": 1,
   "metadata": {},
   "outputs": [
    {
     "name": "stderr",
     "output_type": "stream",
     "text": [
      "usage: ipykernel_launcher.py [-h] [-e EPOCHS] [-a ALPHA]\n",
      "ipykernel_launcher.py: error: unrecognized arguments: -f /Users/alejandrogarcia/Library/Jupyter/runtime/kernel-681657c3-d604-4aaa-a8e7-7a844b5b90a8.json\n"
     ]
    },
    {
     "ename": "SystemExit",
     "evalue": "2",
     "output_type": "error",
     "traceback": [
      "An exception has occurred, use %tb to see the full traceback.\n",
      "\u001b[0;31mSystemExit\u001b[0m\u001b[0;31m:\u001b[0m 2\n"
     ]
    },
    {
     "name": "stderr",
     "output_type": "stream",
     "text": [
      "/Library/Frameworks/Python.framework/Versions/3.6/lib/python3.6/site-packages/IPython/core/interactiveshell.py:2870: UserWarning: To exit: use 'exit', 'quit', or Ctrl-D.\n",
      "  warn(\"To exit: use 'exit', 'quit', or Ctrl-D.\", stacklevel=1)\n"
     ]
    }
   ],
   "source": [
    "# import the necessary packages\n",
    "import matplotlib.pyplot as plt\n",
    "from sklearn.datasets.samples_generator import make_blobs\n",
    "import numpy as np\n",
    "import argparse\n",
    "\n",
    "def sigmoid_activation(x):\n",
    "\t# compute and return the sigmoid activation value for a\n",
    "\t# given input value\n",
    "\treturn 1.0 / (1 + np.exp(-x))\n",
    "\n",
    "# construct the argument parse and parse the arguments\n",
    "ap = argparse.ArgumentParser()\n",
    "ap.add_argument(\"-e\", \"--epochs\", type=float, default=100,\n",
    "\thelp=\"# of epochs\")\n",
    "ap.add_argument(\"-a\", \"--alpha\", type=float, default=0.01,\n",
    "\thelp=\"learning rate\")\n",
    "args = vars(ap.parse_args())\n",
    "\n",
    "# generate a 2-class classification problem with 250 data points,\n",
    "# where each data point is a 2D feature vector\n",
    "(X, y) = make_blobs(n_samples=250, n_features=2, centers=2,\n",
    "\tcluster_std=1.05, random_state=20)\n",
    "\n",
    "# insert a column of 1's as the first entry in the feature\n",
    "# vector -- this is a little trick that allows us to treat\n",
    "# the bias as a trainable parameter *within* the weight matrix\n",
    "# rather than an entirely separate variable\n",
    "X = np.c_[np.ones((X.shape[0])), X]\n",
    "\n",
    "# initialize our weight matrix such it has the same number of\n",
    "# columns as our input features\n",
    "print(\"[INFO] starting training...\")\n",
    "W = np.random.uniform(size=(X.shape[1],))\n",
    "\n",
    "# initialize a list to store the loss value for each epoch\n",
    "lossHistory = []\n",
    "\n",
    "# loop over the desired number of epochs\n",
    "for epoch in np.arange(0, args[\"epochs\"]):\n",
    "\t# take the dot product between our features `X` and the\n",
    "\t# weight matrix `W`, then pass this value through the\n",
    "\t# sigmoid activation function, thereby giving us our\n",
    "\t# predictions on the dataset\n",
    "\tpreds = sigmoid_activation(X.dot(W))\n",
    "\n",
    "\t# now that we have our predictions, we need to determine\n",
    "\t# our `error`, which is the difference between our predictions\n",
    "\t# and the true values\n",
    "\terror = preds - y\n",
    "\n",
    "\t# given our `error`, we can compute the total loss value as\n",
    "\t# the sum of squared loss -- ideally, our loss should\n",
    "\t# decrease as we continue training\n",
    "\tloss = np.sum(error ** 2)\n",
    "\tlossHistory.append(loss)\n",
    "\tprint(\"[INFO] epoch #{}, loss={:.7f}\".format(epoch + 1, loss))\n",
    "\n",
    "\t# the gradient update is therefore the dot product between\n",
    "\t# the transpose of `X` and our error, scaled by the total\n",
    "\t# number of data points in `X`\n",
    "\tgradient = X.T.dot(error) / X.shape[0]\n",
    "\n",
    "\t# in the update stage, all we need to do is nudge our weight\n",
    "\t# matrix in the opposite direction of the gradient (hence the\n",
    "\t# term \"gradient descent\" by taking a small step towards a\n",
    "\t# set of \"more optimal\" parameters\n",
    "\tW += -args[\"alpha\"] * gradient\n",
    "\n",
    "# to demonstrate how to use our weight matrix as a classifier,\n",
    "# let's look over our a sample of training examples\n",
    "for i in np.random.choice(250, 10):\n",
    "\t# compute the prediction by taking the dot product of the\n",
    "\t# current feature vector with the weight matrix W, then\n",
    "\t# passing it through the sigmoid activation function\n",
    "\tactivation = sigmoid_activation(X[i].dot(W))\n",
    "\n",
    "\t# the sigmoid function is defined over the range y=[0, 1],\n",
    "\t# so we can use 0.5 as our threshold -- if `activation` is\n",
    "\t# below 0.5, it's class `0`; otherwise it's class `1`\n",
    "\tlabel = 0 if activation < 0.5 else 1\n",
    "\n",
    "\t# show our output classification\n",
    "\tprint(\"activation={:.4f}; predicted_label={}, true_label={}\".format(\n",
    "\t\tactivation, label, y[i]))\n",
    "\n",
    "# compute the line of best fit by setting the sigmoid function\n",
    "# to 0 and solving for X2 in terms of X1\n",
    "Y = (-W[0] - (W[1] * X)) / W[2]\n",
    "\n",
    "# plot the original data along with our line of best fit\n",
    "plt.figure()\n",
    "plt.scatter(X[:, 1], X[:, 2], marker=\"o\", c=y)\n",
    "plt.plot(X, Y, \"r-\")\n",
    "\n",
    "# construct a figure that plots the loss over time\n",
    "fig = plt.figure()\n",
    "plt.plot(np.arange(0, args[\"epochs\"]), lossHistory)\n",
    "fig.suptitle(\"Training Loss\")\n",
    "plt.xlabel(\"Epoch #\")\n",
    "plt.ylabel(\"Loss\")\n",
    "plt.show()"
   ]
  },
  {
   "cell_type": "code",
   "execution_count": null,
   "metadata": {
    "collapsed": true
   },
   "outputs": [],
   "source": []
  }
 ],
 "metadata": {
  "kernelspec": {
   "display_name": "Python 3",
   "language": "python",
   "name": "python3"
  },
  "language_info": {
   "codemirror_mode": {
    "name": "ipython",
    "version": 3
   },
   "file_extension": ".py",
   "mimetype": "text/x-python",
   "name": "python",
   "nbconvert_exporter": "python",
   "pygments_lexer": "ipython3",
   "version": "3.6.1"
  }
 },
 "nbformat": 4,
 "nbformat_minor": 2
}
